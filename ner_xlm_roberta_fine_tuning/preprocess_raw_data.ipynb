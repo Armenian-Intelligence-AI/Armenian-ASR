{
 "cells": [
  {
   "metadata": {
    "ExecuteTime": {
     "end_time": "2024-10-16T07:08:58.713962Z",
     "start_time": "2024-10-16T07:08:58.710662Z"
    }
   },
   "cell_type": "code",
   "source": [
    "import re\n",
    "\n",
    "def armenian_text(text):\n",
    "    pattern_brackets = r\"\\((.*?)\\)\"\n",
    "    clean_text = re.sub(pattern_brackets, \"\", text)\n",
    "    arm_range = set(range(ord('Ա'), ord('Ֆ') + 1)).union(set(range(ord('ա'), ord('և') + 1)))\n",
    "    clean_text = re.sub(r'[^\\w\\s]|_', '', re.sub(r'\\d+', '', clean_text))\n",
    "    accept = True\n",
    "    for item in clean_text.split():\n",
    "        if any([ord(char) not in arm_range for char in item]):\n",
    "            accept = False\n",
    "            break\n",
    "    if accept:\n",
    "        return text"
   ],
   "id": "9184f782",
   "outputs": [],
   "execution_count": 108
  },
  {
   "metadata": {
    "ExecuteTime": {
     "end_time": "2024-10-16T07:08:58.836447Z",
     "start_time": "2024-10-16T07:08:58.834335Z"
    }
   },
   "cell_type": "code",
   "source": [
    "allowed_punctuations = {',', '։', '՝', '՞', '-', '.'}\n",
    "global allowed_punctuations\n",
    "arm_range = set(range(ord('Ա'), ord('Ֆ') + 1)).union(set(range(ord('ա'), ord('և') + 1)))\n",
    "global arm_range"
   ],
   "id": "7cd0cc8d",
   "outputs": [],
   "execution_count": 109
  },
  {
   "metadata": {
    "ExecuteTime": {
     "end_time": "2024-10-16T07:08:58.968916Z",
     "start_time": "2024-10-16T07:08:58.958145Z"
    }
   },
   "cell_type": "code",
   "source": [
    "import pickle\n",
    "    \n",
    "good_sentences = set()\n",
    "good_sentences_with_latin = set()\n",
    "with open(\"corpus26shamshyan.pkl\", \"rb\") as f:  # CB_DATA\n",
    "    data1 = pickle.load(f)\n",
    "    data1 = [part for string in data1 for part in string.split('։')]\n",
    "    \n",
    "    for line in data1:\n",
    "        # print(line)\n",
    "        raw_text = armenian_text(line)\n",
    "        # print(raw_text)\n",
    "        if raw_text:\n",
    "            good_sentences.add(raw_text)\n",
    "        else:\n",
    "            good_sentences_with_latin.add(line)"
   ],
   "id": "3581365b",
   "outputs": [],
   "execution_count": 110
  },
  {
   "metadata": {
    "ExecuteTime": {
     "end_time": "2024-10-16T07:08:59.147883Z",
     "start_time": "2024-10-16T07:08:59.145751Z"
    }
   },
   "cell_type": "code",
   "source": "len(good_sentences)",
   "id": "98f24bac0c3340e6",
   "outputs": [
    {
     "data": {
      "text/plain": [
       "13"
      ]
     },
     "execution_count": 111,
     "metadata": {},
     "output_type": "execute_result"
    }
   ],
   "execution_count": 111
  },
  {
   "cell_type": "code",
   "id": "25007b32",
   "metadata": {
    "ExecuteTime": {
     "end_time": "2024-10-16T07:09:00.291878Z",
     "start_time": "2024-10-16T07:09:00.286315Z"
    }
   },
   "source": [
    "def clean_sentence(sentence):\n",
    "    new_sentence = ''\n",
    "    for char in sentence:\n",
    "        if char in allowed_punctuations or ord(char) in arm_range or char.isdigit():\n",
    "            new_sentence += char\n",
    "        elif char == \"՛\":\n",
    "            new_sentence +=''\n",
    "        else:\n",
    "            new_sentence += ' '\n",
    "    new_sentence = \" \".join(new_sentence.split()).strip()\n",
    "    return new_sentence\n",
    "\n",
    "def clean_sentences(sentences):\n",
    "    new_sentences = set()\n",
    "    for sentence in sentences:\n",
    "        new_sentence = clean_sentence(sentence)\n",
    "        new_sentences.add(new_sentence)\n",
    "    new_sentences = set([sentence for sentence in new_sentences if len(sentence.split()) >= 6])\n",
    "    return new_sentences\n",
    "\n",
    "new_sentences = clean_sentences(sentences=good_sentences)\n"
   ],
   "outputs": [],
   "execution_count": 112
  },
  {
   "cell_type": "code",
   "id": "267f3fa5",
   "metadata": {
    "ExecuteTime": {
     "end_time": "2024-10-16T07:09:00.537254Z",
     "start_time": "2024-10-16T07:09:00.534536Z"
    }
   },
   "source": [
    "def remove_repeating(sentence: str, allowed_punctuations: set) -> str:\n",
    "    new_sentence = []\n",
    "    for char in sentence:\n",
    "        if char in allowed_punctuations and char != '՞':\n",
    "            new_sentence.append(' ' + char + ' ')\n",
    "        elif char.isalpha() or char.isdigit() or char == ' ' or char == '՞':\n",
    "            new_sentence.append(char)\n",
    "    final_sentence = []\n",
    "    for item in ''.join(new_sentence).split():\n",
    "        if item.isalpha() or item.isdigit():\n",
    "            final_sentence.append(item)\n",
    "        else:\n",
    "            if len(final_sentence) > 0 and item != final_sentence[-1]:\n",
    "                final_sentence.append(item)\n",
    "    final_sentence = [word.replace('ւ','վ') if word.startswith('ւ') else word for word in final_sentence]\n",
    "    return ' '.join(final_sentence).replace('եւ', 'և')"
   ],
   "outputs": [],
   "execution_count": 113
  },
  {
   "cell_type": "code",
   "id": "f28e3b83",
   "metadata": {
    "ExecuteTime": {
     "end_time": "2024-10-16T07:09:00.779140Z",
     "start_time": "2024-10-16T07:09:00.776972Z"
    }
   },
   "source": [
    "final_sentences_cc100 = [remove_repeating(sentence=sentence, allowed_punctuations=allowed_punctuations) \\\n",
    "                        for sentence in new_sentences]"
   ],
   "outputs": [],
   "execution_count": 114
  },
  {
   "cell_type": "code",
   "id": "3aca8175",
   "metadata": {
    "ExecuteTime": {
     "end_time": "2024-10-16T07:09:00.993041Z",
     "start_time": "2024-10-16T07:09:00.990321Z"
    }
   },
   "source": "len(final_sentences_cc100)",
   "outputs": [
    {
     "data": {
      "text/plain": [
       "13"
      ]
     },
     "execution_count": 115,
     "metadata": {},
     "output_type": "execute_result"
    }
   ],
   "execution_count": 115
  },
  {
   "cell_type": "code",
   "id": "45fa23ce",
   "metadata": {
    "ExecuteTime": {
     "end_time": "2024-10-16T07:09:01.253085Z",
     "start_time": "2024-10-16T07:09:01.250399Z"
    }
   },
   "source": [
    "def improve(sentence):\n",
    "    improved = []\n",
    "    for item in sentence.split():\n",
    "        if item == \"եվ\":\n",
    "            improved.append(\"և\")\n",
    "        elif item == \":\":\n",
    "            improved.append(\"։\")\n",
    "        else:\n",
    "            improved.append(item)\n",
    "\n",
    "    if improved:\n",
    "        if not improved[-1].isalpha():\n",
    "            improved[-1] = \"։\"\n",
    "        else:\n",
    "            improved.append(\"։\")\n",
    "    else:\n",
    "        # If sentence is empty, add an Armenian punctuation mark to avoid an empty result\n",
    "        improved.append(\"։\")\n",
    "\n",
    "    return ' '.join(improved)\n",
    "\n",
    "    \n",
    "def final_improvement(final_sentences):\n",
    "    final_sentences_improved = []\n",
    "    for sentence in final_sentences:\n",
    "        improved = improve(sentence)\n",
    "        final_sentences_improved.append(improved)\n",
    "    return final_sentences_improved"
   ],
   "outputs": [],
   "execution_count": 116
  },
  {
   "cell_type": "code",
   "id": "5484188e",
   "metadata": {
    "ExecuteTime": {
     "end_time": "2024-10-16T07:09:01.452736Z",
     "start_time": "2024-10-16T07:09:01.448779Z"
    }
   },
   "source": "final_sentences_cc100_improved = final_improvement(final_sentences_cc100)",
   "outputs": [],
   "execution_count": 117
  },
  {
   "cell_type": "code",
   "id": "995c28e1",
   "metadata": {
    "ExecuteTime": {
     "end_time": "2024-10-16T07:09:02.159068Z",
     "start_time": "2024-10-16T07:09:02.156651Z"
    }
   },
   "source": [
    "allowed_punctuations"
   ],
   "outputs": [
    {
     "data": {
      "text/plain": [
       "{',', '-', '.', '՝', '՞', '։'}"
      ]
     },
     "execution_count": 118,
     "metadata": {},
     "output_type": "execute_result"
    }
   ],
   "execution_count": 118
  },
  {
   "metadata": {
    "ExecuteTime": {
     "end_time": "2024-10-16T07:09:02.720053Z",
     "start_time": "2024-10-16T07:09:02.717504Z"
    }
   },
   "cell_type": "code",
   "source": [
    "def remove_space_before_punctuation(sentence):\n",
    "    new_sent = []\n",
    "    for idx, char in enumerate(sentence):\n",
    "        if char in allowed_punctuations and idx > 0 and sentence[idx-1] == ' ':\n",
    "            new_sent.pop()\n",
    "            new_sent.append(char)\n",
    "        else:\n",
    "            new_sent.append(char)\n",
    "    return ''.join(new_sent)"
   ],
   "id": "46c4656f",
   "outputs": [],
   "execution_count": 119
  },
  {
   "metadata": {
    "ExecuteTime": {
     "end_time": "2024-10-16T07:09:03.429829Z",
     "start_time": "2024-10-16T07:09:03.427842Z"
    }
   },
   "cell_type": "code",
   "source": [
    "final_sentences_cc100 = []\n",
    "for sentence in final_sentences_cc100_improved:\n",
    "    final_sentences_cc100.append(remove_space_before_punctuation(sentence=sentence))\n"
   ],
   "id": "8a0a0651",
   "outputs": [],
   "execution_count": 120
  },
  {
   "metadata": {
    "ExecuteTime": {
     "end_time": "2024-10-16T07:09:05.179548Z",
     "start_time": "2024-10-16T07:09:05.176284Z"
    }
   },
   "cell_type": "code",
   "source": "final_sentences_cc100",
   "id": "bd080e10308c2e86",
   "outputs": [
    {
     "data": {
      "text/plain": [
       "['Մերկասառույցի պայմաններում վարորդներին չհաջողվեց դուրս բերել ձորակում հայտնված բեռնատարը Ներկայացնում ենք տեսանյութը։',\n",
       " 'Թաքնված տեսախցիկը կատակում է թանգարանի այցելուների հետ Ներկայացնում ենք տեսանյութը։',\n",
       " 'Համացանցում հայտնված տեսանյութում տղամարդը ցույց է տալիս, թե ինչպես է կարելի գորտ ուտել Չնայած այն բանին, որ որոշ երկրներում, գորտը համարվում է, դելիկատես, սակայն նրա առաջարկած տարբերակը յուրօրինակ է։',\n",
       " 'Թուրքական հեռուստաալիքի հաղորդավարը եթերի ժամանակ միկրոֆոնի փոխարեն շփոթմամբ մեկ այլ առարկա է օգտագործում Ներկայացնում ենք տեսանյութը։',\n",
       " 'Հայտնի դերասան Վին Դիզելը համացանցում տեղադրել է տեսանյութ, որտեղ պարում է Բեյոնսեի և Քեթի Պերի երգի ներքո Նա ապացուցել է, որ ինքը ոչ միայն լավ դերասան է, այլ նաև լավ պարող է։',\n",
       " 'Թե ինչու են կանայք ավելի երկար ապրում, դիտեք ֆոտոշարքում։',\n",
       " 'Ռուսաստանի գյուղերից մեկում ձուկ որսալը, պարզվում է, այդքան էլ դժվար չէ Ներկայացնում ենք տեսանյութը։',\n",
       " 'ԱՄՆ- ի ավտոճանապարհներից մեկում հաջողակ վարորդը հրաշքով էր խուսափել հանդիպակաց գոտում հայտնված բեռնատարի հետ բախումից Ներկայացնում ենք տեսանյութը։',\n",
       " 'Հեռու չեն այն ժամանակները, երբ հյուրանոցում ձեզ կդիմավորեն նման գեղեցիկ աշխատակիցները Ներկայացնում ենք տեսանյութը։',\n",
       " 'Երբ ինչ- որ մեկը չի զբաղվում իր սիրելի գործով, դա կարող է հանգեցնել անդառնալի հետևանքների և գուցե ծիծաղեցնել Բարեբախտաբար, մարդկանց կյանքը կախված չէ գովազդատուներից, ինչը նշանակում է, որ մենք կարող ենք միայն զվարճանալ կարդալով նրանց անհեթեթ հայտարարությունները։',\n",
       " '911- ի օպերատորը տարօրինակ զանգ է ստացել 4- ամյա երեխան մաթեմատիկայի հանձնարարությունը կատարելու համար զանգահարել է նրանց Հեռախոսին պատասխանողը սիրով բացատրում է խնդրի էությունը, սկայն քիչ անցլսվում է երեխայի մայրիկի ձայնը, ով հարցնում է, թե ինչ է անում նա հեռախոսի մոտ Ոստիկանություն եմ զանգահարել, դու չես ասել, որ դժվարության մեջ ընկնելիս զանգահարի 911,- պատասխանում է երեխան։',\n",
       " 'Համացանցում կրկին մեծ դիտումներ են բերում դեռևս վերջերս երգող այծերի մասնակցությամբ տեսահոովակները Ներկայացնում ենք դրանցից մեկը։',\n",
       " 'Հնդկաստանում մասնագետի համար այս անգամ ծառահատումն անհաջող ավարտվեց Ծառի հսկա հատվածը նրա գլխին էր ընկել Ներկայացնում ենք տեսանյութը։']"
      ]
     },
     "execution_count": 123,
     "metadata": {},
     "output_type": "execute_result"
    }
   ],
   "execution_count": 123
  },
  {
   "metadata": {
    "ExecuteTime": {
     "end_time": "2024-10-16T07:09:10.192172Z",
     "start_time": "2024-10-16T07:09:10.189785Z"
    }
   },
   "cell_type": "code",
   "source": [
    "import pickle\n",
    "\n",
    "with open('thired.pkl', 'wb') as handle:\n",
    "    pickle.dump(final_sentences_cc100, handle, protocol=pickle.HIGHEST_PROTOCOL)"
   ],
   "id": "58e7d9b8",
   "outputs": [],
   "execution_count": 124
  },
  {
   "metadata": {},
   "cell_type": "code",
   "outputs": [],
   "execution_count": null,
   "source": "",
   "id": "f9fa367cbda94ac9"
  }
 ],
 "metadata": {
  "kernelspec": {
   "display_name": "Python 3 (ipykernel)",
   "language": "python",
   "name": "python3"
  },
  "language_info": {
   "codemirror_mode": {
    "name": "ipython",
    "version": 3
   },
   "file_extension": ".py",
   "mimetype": "text/x-python",
   "name": "python",
   "nbconvert_exporter": "python",
   "pygments_lexer": "ipython3",
   "version": "3.9.13"
  }
 },
 "nbformat": 4,
 "nbformat_minor": 5
}
